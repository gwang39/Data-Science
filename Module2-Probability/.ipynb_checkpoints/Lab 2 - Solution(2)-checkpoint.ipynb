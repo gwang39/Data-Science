{
 "cells": [
  {
   "cell_type": "markdown",
   "metadata": {},
   "source": [
    "# Lab 2 - Probability - Solution"
   ]
  },
  {
   "cell_type": "code",
   "execution_count": 1,
   "metadata": {},
   "outputs": [],
   "source": [
    "% matplotlib inline"
   ]
  },
  {
   "cell_type": "markdown",
   "metadata": {},
   "source": [
    "This will make all the `matplotlib` images appear in the notebook."
   ]
  },
  {
   "cell_type": "markdown",
   "metadata": {},
   "source": [
    "## Directions\n",
    "\n",
    "**Failure to follow the directions will result in a \"0\"**\n",
    "\n",
    "The due dates for each are indicated in the Syllabus and the course calendar. If anything is unclear, please email EN605.448@gmail.com the official email for the course or ask questions in the Lab discussion area on Blackboard.\n",
    "\n",
    "The Labs also present technical material that augments the lectures and \"book\".  You should read through the entire lab at the start of each module.\n",
    "\n",
    "### General Instructions\n",
    "\n",
    "1.  You will be submitting your assignment to Blackboard. If there are no accompanying files, you should submit *only* your notebook and it should be named using *only* your JHED id: fsmith79.ipynb for example if your JHED id were \"fsmith79\". If the assignment requires additional files, you should name the *folder/directory* your JHED id and put all items in that folder/directory, ZIP it up (only ZIP...no other compression), and submit it to Blackboard.\n",
    "    \n",
    "    * do **not** use absolute paths in your notebooks. All resources should appear in the same directory as the rest of your assignments.\n",
    "    * the directory **must** be named your JHED id and **only** your JHED id.\n",
    "    \n",
    "2. Data Science is as much about what you write (communicating) as the code you execute (researching). In many places, you will be required to execute code and discuss both the purpose and the result. Additionally, Data Science is about reproducibility and transparency. This includes good communication with your team and possibly with yourself. Therefore, you must show **all** work.\n",
    "\n",
    "3. Avail yourself of the Markdown/Codecell nature of the notebook. If you don't know about Markdown, look it up. Your notebooks should not look like ransom notes. Don't make everything bold. Clearly indicate what question you are answering.\n",
    "\n",
    "4. Submit a cleanly executed notebook. It should say `In [1]` for the first codecell and increase by 1 throughout."
   ]
  },
  {
   "cell_type": "code",
   "execution_count": 2,
   "metadata": {},
   "outputs": [],
   "source": [
    "import numpy as np\n",
    "import random as py_random\n",
    "import numpy.random as np_random\n",
    "import time\n",
    "import seaborn as sns\n",
    "import matplotlib.pyplot as plt\n",
    "\n",
    "sns.set(style=\"whitegrid\")"
   ]
  },
  {
   "cell_type": "markdown",
   "metadata": {},
   "source": [
    "## Manipulating and Interpreting Probability\n",
    "\n",
    "Given the following *joint probability distribution*, $P(A|B)$, for $A$ and $B$,\n",
    "\n",
    "\n",
    "|    | a1   | a2   |\n",
    "|----|------|------|\n",
    "| **b1** | 0.37 | 0.16 |\n",
    "| **b2** | 0.23 | ?    |\n",
    "\n",
    "Answer the following questions.\n",
    "\n",
    "**1\\. What is $P(A=a2, B=b2)$?**"
   ]
  },
  {
   "cell_type": "markdown",
   "metadata": {},
   "source": [
    "All probability distributions sum to 1. If we take 1 and subtract out the probabilities for the events we do know about, we'll find the probability for the one event we don't know: 1 - 0.37 - 0.16 - 0.23 = ?"
   ]
  },
  {
   "cell_type": "code",
   "execution_count": 3,
   "metadata": {},
   "outputs": [
    {
     "name": "stdout",
     "output_type": "stream",
     "text": [
      "the probability of (a2, b2) is 0.24\n"
     ]
    }
   ],
   "source": [
    "print( \"the probability of (a2, b2) is %.2f\" % (1 - 0.37 - 0.16 - 0.23))"
   ]
  },
  {
   "cell_type": "markdown",
   "metadata": {},
   "source": [
    "**2\\. If I observe events from this probability distribution, what is the probability of seeing (a1, b1) then (a2, b2)?**"
   ]
  },
  {
   "cell_type": "markdown",
   "metadata": {},
   "source": [
    "Note that the two observations are independent. Remember the definition of independence: $P((a2,b2)|(a1,b1) = P((a2,b2))$ which means that observing the first event does not give me any additional information about the probability of the second event (it does not change how uncertain I am about (a2, b2) happening by modifying the base or *prior* probability).\n",
    "\n",
    "This does not mean, however, that A and B are independent; we're talking about the *joint* event and the *joint* probability.\n",
    "\n",
    "The probability of two independent events is the productive of their individual probabilities:"
   ]
  },
  {
   "cell_type": "code",
   "execution_count": 4,
   "metadata": {},
   "outputs": [
    {
     "name": "stdout",
     "output_type": "stream",
     "text": [
      "the probability of (a1, b1) then (a2, b2) is 0.09\n"
     ]
    }
   ],
   "source": [
    "print( \"the probability of (a1, b1) then (a2, b2) is %.2f\" % (0.37 * 0.24))"
   ]
  },
  {
   "cell_type": "markdown",
   "metadata": {},
   "source": [
    "**3\\. Calculate the marginal probability distribution, $P(A)$.**"
   ]
  },
  {
   "cell_type": "markdown",
   "metadata": {},
   "source": [
    "There are any number of ways of doing this but we need to figure out some way to represent discrete probability distributions as data structures. I propose we represent our probility distribution(s) as a set of nested Dicts:"
   ]
  },
  {
   "cell_type": "code",
   "execution_count": 5,
   "metadata": {},
   "outputs": [],
   "source": [
    "p = {\"a1\": {\"b1\": 0.37, \"b2\": 0.23}, \"a2\": {\"b1\": 0.16, \"b2\": 0.24}}"
   ]
  },
  {
   "cell_type": "markdown",
   "metadata": {},
   "source": [
    "$P(A)$ is basically marginalizing B *out*. We can do this by summing the individual elements:"
   ]
  },
  {
   "cell_type": "code",
   "execution_count": 6,
   "metadata": {},
   "outputs": [
    {
     "name": "stdout",
     "output_type": "stream",
     "text": [
      "P(a1) = 0.60\n",
      "P(a2) = 0.40\n"
     ]
    }
   ],
   "source": [
    "print( \"P(a1) = %.2f\" % (p[\"a1\"][\"b1\"] + p[\"a1\"][\"b2\"]))\n",
    "print( \"P(a2) = %.2f\" % (p[\"a2\"][\"b1\"] + p[\"a2\"][\"b2\"]))"
   ]
  },
  {
   "cell_type": "markdown",
   "metadata": {},
   "source": [
    "**4\\. Calculate the marginal probability distribution, $P(B)$.**"
   ]
  },
  {
   "cell_type": "markdown",
   "metadata": {},
   "source": [
    "We can do the same thing we just did except we will marginalize out A:"
   ]
  },
  {
   "cell_type": "code",
   "execution_count": 7,
   "metadata": {},
   "outputs": [
    {
     "name": "stdout",
     "output_type": "stream",
     "text": [
      "P(b1) = 0.53\n",
      "P(b2) = 0.47\n"
     ]
    }
   ],
   "source": [
    "print( \"P(b1) = %.2f\" % (p[\"a1\"][\"b1\"] + p[\"a2\"][\"b1\"]))\n",
    "print( \"P(b2) = %.2f\" % (p[\"a1\"][\"b2\"] + p[\"a2\"][\"b2\"]))"
   ]
  },
  {
   "cell_type": "markdown",
   "metadata": {},
   "source": [
    "**5\\. Calculate the conditional probability distribution, $P(A|B)$.**"
   ]
  },
  {
   "cell_type": "markdown",
   "metadata": {},
   "source": [
    "The calculation of a conditional probability for A creates a new probability distribution for each event in B. That is, instead of wanting to know $P(a1, b1)$ or $P(a2, b1)$, we want to know $P(a1|b1)$ and $P(a2|b1)$. Remember, conditional probability expresses the idea \"if we know that b1 happened, how does this change the probabilities of a1, a2, etc.\". We then do this for each possible value of B.\n",
    "\n",
    "The formula for conditional probability is:\n",
    "\n",
    "$$P(A|B) = \\frac{P(A, B)}{P(B)}$$"
   ]
  },
  {
   "cell_type": "code",
   "execution_count": 8,
   "metadata": {},
   "outputs": [
    {
     "name": "stdout",
     "output_type": "stream",
     "text": [
      "P(a1|b1) = 0.70\n",
      "P(a2|b1) = 0.30\n",
      "-----\n",
      "P(a1|b2) = 0.49\n",
      "P(a2|b2) = 0.51\n"
     ]
    }
   ],
   "source": [
    "print( \"P(a1|b1) = %.2f\" % ((p[\"a1\"][\"b1\"])/(p[\"a1\"][\"b1\"] + p[\"a2\"][\"b1\"])))\n",
    "print( \"P(a2|b1) = %.2f\" % ((p[\"a2\"][\"b1\"])/(p[\"a1\"][\"b1\"] + p[\"a2\"][\"b1\"])))\n",
    "print( \"-----\")\n",
    "print( \"P(a1|b2) = %.2f\" % ((p[\"a1\"][\"b2\"])/(p[\"a1\"][\"b2\"] + p[\"a2\"][\"b2\"])))\n",
    "print( \"P(a2|b2) = %.2f\" % ((p[\"a2\"][\"b2\"])/(p[\"a1\"][\"b2\"] + p[\"a2\"][\"b2\"])))"
   ]
  },
  {
   "cell_type": "markdown",
   "metadata": {},
   "source": [
    "**6\\. Calculate the conditional probability distribution, $P(B|A)$.**"
   ]
  },
  {
   "cell_type": "markdown",
   "metadata": {},
   "source": [
    "Basically the same principle applies here as well:"
   ]
  },
  {
   "cell_type": "code",
   "execution_count": 9,
   "metadata": {},
   "outputs": [
    {
     "name": "stdout",
     "output_type": "stream",
     "text": [
      "P(b1|a1) = 0.62\n",
      "P(b2|a1) = 0.38\n",
      "-----\n",
      "P(b1|a2) = 0.40\n",
      "P(b2|a2) = 0.60\n"
     ]
    }
   ],
   "source": [
    "print( \"P(b1|a1) = %.2f\" % ((p[\"a1\"][\"b1\"])/(p[\"a1\"][\"b1\"] + p[\"a1\"][\"b2\"])))\n",
    "print( \"P(b2|a1) = %.2f\" % ((p[\"a1\"][\"b2\"])/(p[\"a1\"][\"b1\"] + p[\"a1\"][\"b2\"])))\n",
    "print( \"-----\")\n",
    "print( \"P(b1|a2) = %.2f\" % ((p[\"a2\"][\"b1\"])/(p[\"a2\"][\"b1\"] + p[\"a2\"][\"b2\"])))\n",
    "print( \"P(b2|a2) = %.2f\" % ((p[\"a2\"][\"b2\"])/(p[\"a2\"][\"b1\"] + p[\"a2\"][\"b2\"])))"
   ]
  },
  {
   "cell_type": "markdown",
   "metadata": {},
   "source": [
    "**7\\. Does $P(A|B) = P(B|A)$? What do we call the belief that these are always equal?**"
   ]
  },
  {
   "cell_type": "markdown",
   "metadata": {},
   "source": [
    "This question can potentially be a bit confusing because if you look at the *table* that each of these represents, they don't exactly line up. What is we are really asking is if $P(a1|b1)$ is equal to $P(b1|a1)$, etc.\n",
    "\n",
    "By looking at the two sets of results, we can see that they are definitely not equal. P(a1|b1) = 0.62 and P(b1|a1) = 0.70, P(a1|b2) = 0.4 and P(b2|a1) = 0.3.\n",
    "\n",
    "The belief that these are always equal is the **inverse probability fallacy**."
   ]
  },
  {
   "cell_type": "markdown",
   "metadata": {},
   "source": [
    "**8\\. Does $P(A) = P(A|B)$? What does that mean about the independence of $A$ and $B$?**"
   ]
  },
  {
   "cell_type": "markdown",
   "metadata": {},
   "source": [
    "No, they do not. P(a1) = 0.40 and P(a1|b1) = 0.62. This means that A and B are not independent. \n",
    "\n",
    "You can test your understanding by creating a joint probability P(A, B) where they are independent. Start with A and B as two flips of a fair coin and then try to come up with a more interesting example."
   ]
  },
  {
   "cell_type": "markdown",
   "metadata": {},
   "source": [
    "**9\\. Using $P(A)$, $P(B|A)$, $P(B)$ from above, calculate,**\n",
    "\n",
    "$P(A|B) = \\frac{P(B|A)P(A)}{P(B)}$\n",
    "\n",
    "Does it match your previous calculation for $P(A|B)$?"
   ]
  },
  {
   "cell_type": "markdown",
   "metadata": {},
   "source": [
    "We only really need to do one of these:\n",
    "\n",
    "$$P(a1|b1) = \\frac{P(b1|a1)P(a1)}{P(b1)}$$"
   ]
  },
  {
   "cell_type": "code",
   "execution_count": 10,
   "metadata": {},
   "outputs": [
    {
     "name": "stdout",
     "output_type": "stream",
     "text": [
      "P(a1|b1) = 0.70\n"
     ]
    }
   ],
   "source": [
    "print( \"P(a1|b1) = %.2f\" % (((p[\"a1\"][\"b1\"])/(p[\"a1\"][\"b1\"] + p[\"a1\"][\"b2\"])*(p[\"a1\"][\"b1\"] + p[\"a1\"][\"b2\"]))/(p[\"a1\"][\"b1\"] + p[\"a2\"][\"b1\"])))"
   ]
  },
  {
   "cell_type": "markdown",
   "metadata": {},
   "source": [
    "which is the same. It isn't magic. If you go through the code above, you'll see that everything pretty much well cancels out as you'd expect."
   ]
  },
  {
   "cell_type": "markdown",
   "metadata": {},
   "source": [
    "**10\\. If we let A = H (some condition, characteristic, hypothesis) and B = D (some data, evidence, a test result), then how do we interpret each of the following: $P(H)$, $P(D)$, $P(H|D)$, $P(D|H)$, $P(H, D)$?**"
   ]
  },
  {
   "cell_type": "markdown",
   "metadata": {},
   "source": [
    "$P(H)$ - prior distribution (prior probability of the hypothesis). This is how likely we think each hypothesis is before we see the *new* evidence. The prior may be the posterior distribution from previous experiments.\n",
    "\n",
    "$P(D)$ - probability of the data. There's not really much to say here. It's the normalizer that turns all our calculations of the numerator back into proper probabilities.\n",
    "\n",
    "$P(H|D)$ - posterior distribution (posterior probability of the hypothesis). This is how likely we think each hypothesis is after we have taken the *new* evidence into account. It may form the prior of future experiments.\n",
    "\n",
    "$P(D|H)$ - likelihood (probability of the data given the hypothesis). Basically this is the probability of the data under each possible hypothesis but we look at it the other way (from data to hypothesis).\n",
    "\n",
    "$P(H, D)$ - the joint probability of the data and hypotheses. Not much to say here because it doesn't actually figure into Bayes Rule."
   ]
  },
  {
   "cell_type": "markdown",
   "metadata": {},
   "source": [
    "## Bayes Rule\n",
    "\n",
    "Bayes Rule will be an important part of our toolset in the weeks to come, especially in terms of Bayesian Inference. Work through the following problems in Bayes Rule."
   ]
  },
  {
   "cell_type": "markdown",
   "metadata": {},
   "source": [
    "### Problem 1\n",
    "\n",
    "You might be interested in finding out a patient’s probability of having liver disease if they are an alcoholic. “Being an alcoholic” is the test (kind of like a litmus test) for liver disease.\n",
    "\n",
    "Let `A` be the presence or absence of liver disease (`a` is that they have it; `~a`, \"not a\", is that they don't). Past data tells you that 10% of patients entering your clinic have liver disease.\n",
    "\n",
    "Let `B` be alcoholic (`b`) or not alcoholic (`~b`). 5% of the clinic’s patients are alcoholics.\n",
    "\n",
    "You might also know that among those patients diagnosed with liver disease, 7% are alcoholics.\n",
    "\n",
    "What is P(A|B)? (Remember this is a number of probability distributions, not just a probability)."
   ]
  },
  {
   "cell_type": "markdown",
   "metadata": {},
   "source": [
    "-----\n",
    "Whenever you answer this kind of problem you should 1. specify in text all the parameters and their values, setting up the problem and then 2. solve the problem either by hand or, better yet, using code. However, if you use code, you should include a bit of \"tracing\" so that you see what's going on. It's perfectly acceptable to take the code directly from *Fundamentals*. Just change the names of variables and what-not if necessary.\n",
    "\n",
    "-----\n",
    "\n",
    "This is a problem is Bayes Rule. You should always write out Bayes Rule for the problem you're solving:\n",
    "\n",
    "$P(A|B) = \\frac{P(B|A)*P(A)}{P(B}$\n",
    "\n",
    "Now we just need to fill in the things on the right that we can.\n",
    "\n",
    "1. `P(A)` is the prior for liver disease and is described as [0.10, 0.90].\n",
    "2. `P(B|A)` is the likelihood of alcoholism given liver disease. If we take the first case, we assume `A=a` (they have liver disease) and we have `P(B|a)` = [0.07, 0.93]. What is `P(B|~a)`? It turns out we don't have the data for that case.\n",
    "3. `P(B)` is [0.05, 0.95]. Usually we need to calculate this using Total Probability.\n",
    "\n",
    "Instead of calculating `P(B)` as usual, we are going to need to calculate `P(B|~a)` using Total Probability. No problem. Let's start with that.\n"
   ]
  },
  {
   "cell_type": "markdown",
   "metadata": {},
   "source": [
    "`P(B|~a)`\n",
    "\n",
    "Total Probability is `P(B)` = $\\sum$ `P(B|A)P(A)`. If we write these out individually, we have:\n",
    "\n",
    "`P(b) = P(b|a)P(a) + P(b|~a)P(~a)`\n",
    "\n",
    "`P(~b) = P(~b|a)P(a) + P(~b|~a)P(~a)`\n",
    "\n",
    "Our unknowns are `P(b|~a)` and `P(~b|~a)`.\n",
    "\n",
    "Solving for the unknowns we have:\n",
    "\n",
    "`P(b|~a) = (P(b) - P(b|a)P(a))/P(~a)`\n",
    "\n",
    "`P(~b|~a) = (P(~b) - P(~b|a)P(a))/P(~a)`\n",
    "\n",
    "Substituting from the problem, we have:\n",
    "\n",
    "`P(b|~a) = (0.05 - 0.07*0.1)/0.90 ~= 0.048`\n",
    "\n",
    "`P(~b|~a) = (0.95 - 0.93*0.1)/0.9 ~= 0.952`\n",
    "\n",
    "Our check is that these sum to 1.\n",
    "\n",
    "Now we can start calculating Bayes Rule but what is our evidence? We don't really have any. More specifically, we need to calculate a result for all types of evidence whether we have alcoholism or not (`b` and `~b`).\n",
    "\n",
    "We can grab some generic Bayes Rule code from *Fundamentals* for this:"
   ]
  },
  {
   "cell_type": "code",
   "execution_count": 11,
   "metadata": {},
   "outputs": [],
   "source": [
    "def normalize( dist):\n",
    "    normalizer = sum( dist.values())\n",
    "    for k in dist.keys():\n",
    "        dist[ k] = dist[ k] / normalizer\n",
    "    return dist # don't need to do this.\n",
    "\n",
    "def query( prior, likelihoods, evidence):\n",
    "    posterior = {}\n",
    "    for k in prior.keys():\n",
    "        posterior[ k] = likelihoods[ k][ evidence] * prior[ k]\n",
    "    normalize( posterior)\n",
    "    return posterior"
   ]
  },
  {
   "cell_type": "code",
   "execution_count": 12,
   "metadata": {},
   "outputs": [],
   "source": [
    "p1_prior = {\"a\": 0.1, \"~a\": 0.9}\n",
    "p1_likelihoods = {\"a\": {\"b\": 0.07, \"~b\": 0.93}, \"~a\": {\"b\": 0.048, \"~b\": 0.952}}"
   ]
  },
  {
   "cell_type": "markdown",
   "metadata": {},
   "source": [
    "We can try `b` as our evidence:"
   ]
  },
  {
   "cell_type": "code",
   "execution_count": 13,
   "metadata": {},
   "outputs": [
    {
     "name": "stdout",
     "output_type": "stream",
     "text": [
      "{'a': 0.13944223107569723, '~a': 0.8605577689243028}\n"
     ]
    }
   ],
   "source": [
    "print(query(p1_prior, p1_likelihoods, \"b\"))"
   ]
  },
  {
   "cell_type": "markdown",
   "metadata": {},
   "source": [
    "Note that the above is **not** a complete answer. The question asks what `P(A|B)` is and we have just spit out a Dict with some values in it. A complete answer will put the values in context and interpret them.\n",
    "\n",
    "-----\n",
    "\n",
    "`P(a|b)` = 0.139 is the probability of having liver disease if the patient is an alcoholic.\n",
    "\n",
    "`P(~a|b)` = 0.861 is the probability of not having liver disease if the patient is an alcoholic.\n",
    "\n",
    "We can also answer the cases for when the patient is not an alcoholic, `~b`:\n"
   ]
  },
  {
   "cell_type": "code",
   "execution_count": 14,
   "metadata": {},
   "outputs": [
    {
     "name": "stdout",
     "output_type": "stream",
     "text": [
      "{'a': 0.09791535060012636, '~a': 0.9020846493998737}\n"
     ]
    }
   ],
   "source": [
    "print(query(p1_prior, p1_likelihoods, \"~b\"))"
   ]
  },
  {
   "cell_type": "markdown",
   "metadata": {},
   "source": [
    "`P(a|~b)` = 0.098 is the probability of liver disease if the patient is not an alcoholic. Note that this is about 2/3rds the rate of an alcoholic. This surprises me. The prior was 10% so it goes down very slightly.\n",
    "\n",
    "`P(~a|~b)` = 0.902 is the probability of not having liver disease if the patient is not an alcoholic.\n",
    "\n",
    "----- \n",
    "\n",
    "I generally use 3 decimal places unless more is called for. For example, the main probability of interest is 0.000001 then I will use the same precision for everything."
   ]
  },
  {
   "cell_type": "markdown",
   "metadata": {},
   "source": [
    "### Problem 2\n",
    "\n",
    "In a particular pain clinic, 10% of patients are prescribed narcotic pain killers. Overall, five percent of the clinic’s patients are addicted to narcotics (including pain killers and illegal substances). Out of all the people prescribed pain pills, 8% are addicts. If a patient is an addict, what is the probability that they will be prescribed pain pills?"
   ]
  },
  {
   "cell_type": "markdown",
   "metadata": {},
   "source": [
    "The first thing to do here, when you're given a barebones problem is to establish your notation and try to avoid the letter \"P\". Let A be addict or not and K be pain killers or not. We then have:\n",
    "\n",
    "$P(K|A) = \\frac{P(A|K)*P(K)}{P(A)}$\n",
    "\n",
    "Don't get used to P(A) always being the prior!\n",
    "\n",
    "Filling in the values, we have:\n",
    "\n",
    "1. $P(K)$ = [0.1, 0.9]\n",
    "2. $P(A)$ = [0.05, 0.95]\n",
    "3. $P(A|k)$ = [0.08, 0.92]\n",
    "\n",
    "This is another case where we don't have all the likelihood available. However, we can derive it in this case using Total Probability and the 3rd Axiom of Probability.\n",
    "\n",
    "`P(a) = P(a|k)P(k) + P(a|~k)P(~k)`\n",
    "\n",
    "`P(~a) = P(~a|k)P(k) + P(~a|~k)P(~k)`\n",
    "\n",
    "Our unknowns are `P(a|~k)` and `P(~a|~k)`.\n",
    "\n",
    "Solving for the unknowns we have:\n",
    "\n",
    "`P(a|~k) = (P(a) - P(a|k)P(k))/P(~k)`\n",
    "\n",
    "`P(~a|~k) = (P(~a) - P(~a|k)P(k))/P(~k)`\n",
    "\n",
    "Substituting from the problem, we have:\n",
    "\n",
    "`P(a|~k) = (0.05 - 0.08*0.1)/0.90 ~= 0.047`\n",
    "\n",
    "`P(~a|~k) = (0.95 - 0.92*0.1)/0.90 ~= 0.953`\n",
    "\n",
    "(The book I cribbed these from was not very inventive. These numbers are nearly the same as the previous problem!)"
   ]
  },
  {
   "cell_type": "markdown",
   "metadata": {},
   "source": [
    "We already have *code* defined so need only describe the problem:"
   ]
  },
  {
   "cell_type": "code",
   "execution_count": 15,
   "metadata": {},
   "outputs": [],
   "source": [
    "p2_priors = {\"k\": 0.1, \"~k\": 0.9}\n",
    "p2_likelihoods = {\"k\": {\"a\": 0.08, \"~a\": 0.92}, \"~k\": {\"a\": 0.047, \"~a\": 0.953}}"
   ]
  },
  {
   "cell_type": "markdown",
   "metadata": {},
   "source": [
    "This time we'll calculate all our results and then describe them:"
   ]
  },
  {
   "cell_type": "code",
   "execution_count": 17,
   "metadata": {},
   "outputs": [
    {
     "name": "stdout",
     "output_type": "stream",
     "text": [
      "{'k': 0.15904572564612324, '~k': 0.8409542743538767}\n",
      "{'k': 0.09687269664104456, '~k': 0.9031273033589555}\n"
     ]
    }
   ],
   "source": [
    "print(query(p2_priors, p2_likelihoods, \"a\"))\n",
    "print(query(p2_priors, p2_likelihoods, \"~a\"))"
   ]
  },
  {
   "cell_type": "markdown",
   "metadata": {},
   "source": [
    "`P(k|a)` is 15.9% (you can also convert to percent if you like) and is the probability of a pain killer prescription given the patient is an addict. This is higher than the prior of 10%.\n",
    "\n",
    "`P(~k|a)` is 84.1% and is the probability of not having a pain killer prescription (Rx) given the patient is an addict.\n",
    "\n",
    "`P(k|~a)` is 9.7% and represents the probability that the patient has a pain killer Rx given they are not an addict.\n",
    "\n",
    "`P(~k|~a)` is 90.3% and is the probability that the patient does not have a pain killer Rx given they are not an addict."
   ]
  }
 ],
 "metadata": {
  "kernelspec": {
   "display_name": "Python 3",
   "language": "python",
   "name": "python3"
  },
  "language_info": {
   "codemirror_mode": {
    "name": "ipython",
    "version": 3
   },
   "file_extension": ".py",
   "mimetype": "text/x-python",
   "name": "python",
   "nbconvert_exporter": "python",
   "pygments_lexer": "ipython3",
   "version": "3.7.1"
  },
  "toc": {
   "colors": {
    "hover_highlight": "#DAA520",
    "navigate_num": "#000000",
    "navigate_text": "#333333",
    "running_highlight": "#FF0000",
    "selected_highlight": "#FFD700",
    "sidebar_border": "#EEEEEE",
    "wrapper_background": "#FFFFFF"
   },
   "moveMenuLeft": true,
   "nav_menu": {
    "height": "189px",
    "width": "252px"
   },
   "navigate_menu": true,
   "number_sections": true,
   "sideBar": true,
   "threshold": 4,
   "toc_cell": false,
   "toc_section_display": "block",
   "toc_window_display": false,
   "widenNotebook": false
  }
 },
 "nbformat": 4,
 "nbformat_minor": 1
}
